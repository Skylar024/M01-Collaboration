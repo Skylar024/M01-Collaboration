{
 "cells": [
  {
   "cell_type": "markdown",
   "id": "6862b4c0-a94b-4b9f-a19b-ba6aabbf0b9f",
   "metadata": {},
   "source": [
    "3.1 How many seconds are in an hour?\n",
    "3600"
   ]
  },
  {
   "cell_type": "code",
   "execution_count": 12,
   "id": "062d0f61-be70-4f7b-b0ab-502a4a355f49",
   "metadata": {},
   "outputs": [
    {
     "data": {
      "text/plain": [
       "3600"
      ]
     },
     "execution_count": 12,
     "metadata": {},
     "output_type": "execute_result"
    }
   ],
   "source": [
    "60 * 60"
   ]
  },
  {
   "cell_type": "markdown",
   "id": "6ab4795e-93c2-4b8a-8152-e658cbacab42",
   "metadata": {},
   "source": [
    "3.2 Assign the result from the previous task (seconds in an hour) to a variable called seconds_per_hour"
   ]
  },
  {
   "cell_type": "code",
   "execution_count": 13,
   "id": "e88f7a03-89e6-4bfb-8055-290f9fb2af39",
   "metadata": {},
   "outputs": [],
   "source": [
    "seconds_per_hour = 60 * 60"
   ]
  },
  {
   "cell_type": "markdown",
   "id": "d5154e64-7c28-41bb-a40d-c9ec1bc6c469",
   "metadata": {},
   "source": [
    "3.3 How many seconds are in a day? Use your seconds_per_hour variable\n",
    "86,400"
   ]
  },
  {
   "cell_type": "code",
   "execution_count": 14,
   "id": "49917887-c8c5-4809-a344-f5f0b7a7296b",
   "metadata": {},
   "outputs": [
    {
     "data": {
      "text/plain": [
       "86400"
      ]
     },
     "execution_count": 14,
     "metadata": {},
     "output_type": "execute_result"
    }
   ],
   "source": [
    "seconds_per_hour * 24"
   ]
  },
  {
   "cell_type": "markdown",
   "id": "bb276a3e-49b1-479a-a834-4edfbc8d92cd",
   "metadata": {},
   "source": [
    "3.4 Calculate seconds per day again, but this time save the result in a variable called seconds_per_day"
   ]
  },
  {
   "cell_type": "code",
   "execution_count": 15,
   "id": "df9e52b1-327b-4c21-9782-0e559daacd43",
   "metadata": {},
   "outputs": [],
   "source": [
    "seconds_per_day = seconds_per_hour * 24"
   ]
  },
  {
   "cell_type": "markdown",
   "id": "1f4a56a7-46af-4822-ab5d-5f7a55866827",
   "metadata": {},
   "source": [
    "3.5 Divide seconds_per_day by seconds_per_hour. Use floating-point (/) division"
   ]
  },
  {
   "cell_type": "code",
   "execution_count": 16,
   "id": "46ebfccf-0bf9-4afc-824d-f85df5f7af18",
   "metadata": {},
   "outputs": [
    {
     "data": {
      "text/plain": [
       "24.0"
      ]
     },
     "execution_count": 16,
     "metadata": {},
     "output_type": "execute_result"
    }
   ],
   "source": [
    "seconds_per_day / seconds_per_hour"
   ]
  },
  {
   "cell_type": "markdown",
   "id": "73e421ad-9717-4b6f-96a9-ff4682072ca7",
   "metadata": {},
   "source": [
    "3.6 Divide seconds_per_day by seconds_per_hour, using integer (//) division. Did this number agree with the floating-point value from the previous question, aside from the final .0?\n",
    "24, it is the same number just without the extra .0"
   ]
  },
  {
   "cell_type": "code",
   "execution_count": 19,
   "id": "7ae91c44-30c7-4b71-bfab-ac2bc01b9bc3",
   "metadata": {},
   "outputs": [
    {
     "data": {
      "text/plain": [
       "24"
      ]
     },
     "execution_count": 19,
     "metadata": {},
     "output_type": "execute_result"
    }
   ],
   "source": [
    "seconds_per_day // seconds_per_hour"
   ]
  }
 ],
 "metadata": {
  "kernelspec": {
   "display_name": "Python 3 (ipykernel)",
   "language": "python",
   "name": "python3"
  },
  "language_info": {
   "codemirror_mode": {
    "name": "ipython",
    "version": 3
   },
   "file_extension": ".py",
   "mimetype": "text/x-python",
   "name": "python",
   "nbconvert_exporter": "python",
   "pygments_lexer": "ipython3",
   "version": "3.11.7"
  }
 },
 "nbformat": 4,
 "nbformat_minor": 5
}
